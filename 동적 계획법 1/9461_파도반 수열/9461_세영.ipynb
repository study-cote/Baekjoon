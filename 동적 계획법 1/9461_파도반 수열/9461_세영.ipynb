{
 "cells": [
  {
   "cell_type": "code",
   "execution_count": 2,
   "id": "06cc5859",
   "metadata": {},
   "outputs": [
    {
     "name": "stdout",
     "output_type": "stream",
     "text": [
      "2\n",
      "6\n",
      "3\n",
      "12\n",
      "16\n"
     ]
    }
   ],
   "source": [
    "t = int(input())\n",
    "dp = [0]*101\n",
    "dp[1] = 1; dp[2] = 1; dp[3] = 1; dp[4] = 2; dp[5] = 2\n",
    "\n",
    "for _ in range(t):\n",
    "    n = int(input())\n",
    "    if dp[n] != 0:\n",
    "        print(dp[n])\n",
    "    else:\n",
    "        for i in range(6, n+1):\n",
    "            dp[i] = dp[i-5] + dp[i-1]\n",
    "        print(dp[n])\n"
   ]
  },
  {
   "cell_type": "code",
   "execution_count": null,
   "id": "ed0a6eee",
   "metadata": {},
   "outputs": [],
   "source": []
  }
 ],
 "metadata": {
  "kernelspec": {
   "display_name": "Python 3",
   "language": "python",
   "name": "python3"
  },
  "language_info": {
   "codemirror_mode": {
    "name": "ipython",
    "version": 3
   },
   "file_extension": ".py",
   "mimetype": "text/x-python",
   "name": "python",
   "nbconvert_exporter": "python",
   "pygments_lexer": "ipython3",
   "version": "3.8.8"
  }
 },
 "nbformat": 4,
 "nbformat_minor": 5
}
