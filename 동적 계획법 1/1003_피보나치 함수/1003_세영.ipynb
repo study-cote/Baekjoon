{
 "cells": [
  {
   "cell_type": "code",
   "execution_count": 6,
   "id": "66cea25b",
   "metadata": {},
   "outputs": [
    {
     "name": "stdout",
     "output_type": "stream",
     "text": [
      "3\n",
      "0\n",
      "1 0\n",
      "1\n",
      "0 1\n",
      "3\n",
      "1 2\n"
     ]
    }
   ],
   "source": [
    "def fib(num):\n",
    "    length = len(zero)\n",
    "    if num >= length:\n",
    "        for i in range(length, num+1):\n",
    "            zero.append(zero[i-1]+zero[i-2])\n",
    "            one.append(one[i-1]+one[i-2])\n",
    "    print(\"%d %d\"%(zero[num], one[num]))\n",
    "\n",
    "n = int(input())\n",
    "zero = [1, 0, 1]\n",
    "one = [0, 1, 1]\n",
    "for _ in range(n):\n",
    "    i = int(input())\n",
    "    fib(i)"
   ]
  },
  {
   "cell_type": "code",
   "execution_count": null,
   "id": "3901bace",
   "metadata": {},
   "outputs": [],
   "source": [
    "t = int(input())\n",
    "for i in range(t):\n",
    "    n = int(input())\n",
    "    zero = 1\n",
    "    one = 0\n",
    "    tmp = 0\n",
    "    for _ in range(n):\n",
    "        tmp = one\n",
    "        one = one + zero\n",
    "        zero = tmp\n",
    "    print(zero, one)"
   ]
  }
 ],
 "metadata": {
  "kernelspec": {
   "display_name": "Python 3",
   "language": "python",
   "name": "python3"
  },
  "language_info": {
   "codemirror_mode": {
    "name": "ipython",
    "version": 3
   },
   "file_extension": ".py",
   "mimetype": "text/x-python",
   "name": "python",
   "nbconvert_exporter": "python",
   "pygments_lexer": "ipython3",
   "version": "3.8.8"
  }
 },
 "nbformat": 4,
 "nbformat_minor": 5
}
