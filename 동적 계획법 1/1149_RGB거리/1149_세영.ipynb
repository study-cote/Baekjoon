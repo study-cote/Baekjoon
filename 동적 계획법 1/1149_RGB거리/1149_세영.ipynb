{
 "cells": [
  {
   "cell_type": "code",
   "execution_count": 1,
   "id": "90895461",
   "metadata": {},
   "outputs": [
    {
     "name": "stdout",
     "output_type": "stream",
     "text": [
      "3\n",
      "26 40 83\n",
      "49 60 57\n",
      "13 89 99\n",
      "96\n"
     ]
    }
   ],
   "source": [
    "n = int(input())\n",
    "data = []\n",
    "\n",
    "for _ in range(n):\n",
    "    data.append(list(map(int, input().split())))\n",
    "\n",
    "for i in range(1, n):\n",
    "    # RED\n",
    "    data[i][0] = min(data[i-1][1], data[i-1][2]) + data[i][0]\n",
    "    # GREEN\n",
    "    data[i][1] = min(data[i-1][0], data[i-1][2]) + data[i][1]\n",
    "    # BLUE\n",
    "    data[i][2] = min(data[i-1][0], data[i-1][1]) + data[i][2]\n",
    "    \n",
    "print(min(data[n-1]))"
   ]
  },
  {
   "cell_type": "code",
   "execution_count": null,
   "id": "005c0d03",
   "metadata": {},
   "outputs": [],
   "source": []
  }
 ],
 "metadata": {
  "kernelspec": {
   "display_name": "Python 3",
   "language": "python",
   "name": "python3"
  },
  "language_info": {
   "codemirror_mode": {
    "name": "ipython",
    "version": 3
   },
   "file_extension": ".py",
   "mimetype": "text/x-python",
   "name": "python",
   "nbconvert_exporter": "python",
   "pygments_lexer": "ipython3",
   "version": "3.8.8"
  }
 },
 "nbformat": 4,
 "nbformat_minor": 5
}
