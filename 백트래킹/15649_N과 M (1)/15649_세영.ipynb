{
 "cells": [
  {
   "cell_type": "code",
   "execution_count": 5,
   "id": "2d1faf06",
   "metadata": {},
   "outputs": [
    {
     "name": "stdout",
     "output_type": "stream",
     "text": [
      "4 2\n",
      "1 2\n",
      "1 3\n",
      "1 4\n",
      "2 1\n",
      "2 3\n",
      "2 4\n",
      "3 1\n",
      "3 2\n",
      "3 4\n",
      "4 1\n",
      "4 2\n",
      "4 3\n"
     ]
    }
   ],
   "source": [
    "n, m = map(int, input().split())\n",
    "s = []\n",
    "\n",
    "def dfs():\n",
    "    if len(s) == m: # 리스트가 m 개의 숫자로 이루어져있을때 출력\n",
    "        print(' '.join(map(str,s))) # 정수형을 문자열로 바꾼 뒤 공백을 넣어 출력\n",
    "        return\n",
    "    \n",
    "    for i in range(1, n+1):\n",
    "        if i not in s: # i 가 리스트에 없을 경우 추가\n",
    "            s.append(i)\n",
    "            dfs()\n",
    "            s.pop() # 출력을 다 한 뒤 pop\n",
    "\n",
    "dfs()\n",
    "    "
   ]
  },
  {
   "cell_type": "code",
   "execution_count": null,
   "id": "77900798",
   "metadata": {},
   "outputs": [],
   "source": []
  }
 ],
 "metadata": {
  "kernelspec": {
   "display_name": "Python 3",
   "language": "python",
   "name": "python3"
  },
  "language_info": {
   "codemirror_mode": {
    "name": "ipython",
    "version": 3
   },
   "file_extension": ".py",
   "mimetype": "text/x-python",
   "name": "python",
   "nbconvert_exporter": "python",
   "pygments_lexer": "ipython3",
   "version": "3.8.8"
  }
 },
 "nbformat": 4,
 "nbformat_minor": 5
}
