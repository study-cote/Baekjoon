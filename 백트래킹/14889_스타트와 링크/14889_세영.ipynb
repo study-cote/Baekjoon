{
 "cells": [
  {
   "cell_type": "code",
   "execution_count": 24,
   "id": "5715d0cb",
   "metadata": {},
   "outputs": [
    {
     "name": "stdout",
     "output_type": "stream",
     "text": [
      "4\n",
      "0 1 2 3\n",
      "4 0 5 6\n",
      "7 1 0 2\n",
      "3 4 5 0\n",
      "0\n"
     ]
    }
   ],
   "source": [
    "def perf(data): # 성능 합 계산\n",
    "    add = 0\n",
    "    for i in data:\n",
    "        for j in data:\n",
    "            add = add + s[i][j]\n",
    "    return add\n",
    "    \n",
    "def dfs(index):\n",
    "    if len(start_team) == n/2: # 만약 한 쪽 배열의 개수가 2/n 일때\n",
    "        st = perf(start_team)\n",
    "        li = perf(link_team)\n",
    "        res.append(abs(st-li)) # start팀 능력치 - link팀 능력치 저장\n",
    "        return\n",
    "    \n",
    "    for i in range(index, n):\n",
    "        start_team.append(i) # start_team 에 하나\n",
    "        link_team.remove(i)\n",
    "        dfs(i+1)\n",
    "        start_team.pop(); link_team.append(i)\n",
    "        \n",
    "n = int(input()); s = []\n",
    "for i in range(n):\n",
    "    s.append(list(map(int, input().split())))\n",
    "\n",
    "start_team = []; link_team = [i for i in range(n)]\n",
    "add = 0; res = []\n",
    "dfs(0)\n",
    "print(min(res))"
   ]
  },
  {
   "cell_type": "code",
   "execution_count": null,
   "id": "4a8bd180",
   "metadata": {},
   "outputs": [],
   "source": [
    "0 1 2 3\n",
    "4 0 5 6\n",
    "7 1 0 2\n",
    "3 4 5 0\n",
    "add = 0\n",
    "        for i in start_team:\n",
    "            for j in start_team:\n",
    "                add += s[i][j]\n",
    "        st = add\n",
    "        add = 0\n",
    "        for i in link_team:\n",
    "            for j in link_team:\n",
    "                add += s[i][j]\n",
    "        li = add"
   ]
  }
 ],
 "metadata": {
  "kernelspec": {
   "display_name": "Python 3",
   "language": "python",
   "name": "python3"
  },
  "language_info": {
   "codemirror_mode": {
    "name": "ipython",
    "version": 3
   },
   "file_extension": ".py",
   "mimetype": "text/x-python",
   "name": "python",
   "nbconvert_exporter": "python",
   "pygments_lexer": "ipython3",
   "version": "3.8.8"
  }
 },
 "nbformat": 4,
 "nbformat_minor": 5
}
