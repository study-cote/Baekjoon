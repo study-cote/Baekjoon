{
 "cells": [
  {
   "cell_type": "code",
   "execution_count": null,
   "id": "b52194f9",
   "metadata": {},
   "outputs": [
    {
     "name": "stdout",
     "output_type": "stream",
     "text": [
      "4 1 2 3 4\n",
      "1 2 3 \n",
      "1 2 4 \n",
      "1 3 4 \n",
      "2 3 4 \n",
      "\n"
     ]
    }
   ],
   "source": [
    "def dfs(start):\n",
    "    if len(res) == 3:\n",
    "        for i in res:\n",
    "            print(i, end = ' ')\n",
    "        print()\n",
    "        return\n",
    "    for i in range(start, len(data)):\n",
    "        res.append(data[i])\n",
    "        dfs(i+1)\n",
    "        res.pop()\n",
    "\n",
    "res = []\n",
    "while True:\n",
    "    data = list(map(int, input().split()))\n",
    "    if data[0] == 0:\n",
    "        break\n",
    "    del data[0] \n",
    "    dfs(0)\n",
    "    print()"
   ]
  },
  {
   "cell_type": "code",
   "execution_count": null,
   "id": "278960ed",
   "metadata": {},
   "outputs": [],
   "source": []
  }
 ],
 "metadata": {
  "kernelspec": {
   "display_name": "Python 3",
   "language": "python",
   "name": "python3"
  },
  "language_info": {
   "codemirror_mode": {
    "name": "ipython",
    "version": 3
   },
   "file_extension": ".py",
   "mimetype": "text/x-python",
   "name": "python",
   "nbconvert_exporter": "python",
   "pygments_lexer": "ipython3",
   "version": "3.8.8"
  }
 },
 "nbformat": 4,
 "nbformat_minor": 5
}
