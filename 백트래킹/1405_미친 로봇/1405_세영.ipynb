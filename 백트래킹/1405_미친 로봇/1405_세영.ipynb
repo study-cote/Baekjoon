{
 "cells": [
  {
   "cell_type": "code",
   "execution_count": 15,
   "id": "bf416a93",
   "metadata": {
    "scrolled": true
   },
   "outputs": [
    {
     "name": "stdout",
     "output_type": "stream",
     "text": [
      "2 25 25 25 25\n",
      "0.75\n"
     ]
    }
   ],
   "source": [
    "def dfs(row, col, cnt):\n",
    "    global res\n",
    "    if cnt == n:\n",
    "        all_res.append(res)\n",
    "        return\n",
    "    for i in range(4):\n",
    "        if i == 0 and visited[row][col+1] == 0 and E>0: # 동쪽\n",
    "            res *= E/100; visited[row][col+1] = 1\n",
    "            dfs(row, col+1, cnt+1)\n",
    "            res *= 100/E; visited[row][col+1] = 0\n",
    "            \n",
    "        elif i == 1 and visited[row][col-1] == 0 and W>0: # 서쪽\n",
    "            res *= W/100; visited[row][col-1] = 1\n",
    "            dfs(row, col-1, cnt+1)\n",
    "            res *= 100/W; visited[row][col-1] = 0\n",
    "            \n",
    "        elif i == 2 and visited[row+1][col] == 0 and S>0: # 남쪽\n",
    "            res *= S/100; visited[row+1][col] = 1\n",
    "            dfs(row+1, col, cnt+1)\n",
    "            res *= 100/S; visited[row+1][col] = 0\n",
    "            \n",
    "        elif i == 3 and visited[row-1][col] == 0 and N>0: # 북쪽\n",
    "            res *= N/100; visited[row-1][col] = 1\n",
    "            dfs(row-1, col, cnt+1)\n",
    "            res *= 100/N; visited[row-1][col] = 0\n",
    "            \n",
    "n, E, W, S, N = map(int, input().split())\n",
    "visited = list([0]*29 for _ in range(29)) # 방문여부 체크하는 2차원배열 0으로 초기화\n",
    "visited[14][14] = 1 # 시작하는 위치 배열 값을 1 로 바꿔줌\n",
    "all_res = []; res = 1\n",
    "\n",
    "dfs(14, 14, 0)\n",
    "print(sum(all_res))"
   ]
  },
  {
   "cell_type": "code",
   "execution_count": null,
   "id": "2e1346f9",
   "metadata": {},
   "outputs": [],
   "source": []
  }
 ],
 "metadata": {
  "kernelspec": {
   "display_name": "Python 3",
   "language": "python",
   "name": "python3"
  },
  "language_info": {
   "codemirror_mode": {
    "name": "ipython",
    "version": 3
   },
   "file_extension": ".py",
   "mimetype": "text/x-python",
   "name": "python",
   "nbconvert_exporter": "python",
   "pygments_lexer": "ipython3",
   "version": "3.8.8"
  }
 },
 "nbformat": 4,
 "nbformat_minor": 5
}
