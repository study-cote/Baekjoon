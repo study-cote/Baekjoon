{
 "cells": [
  {
   "cell_type": "code",
   "execution_count": 7,
   "id": "6bfcf883",
   "metadata": {},
   "outputs": [
    {
     "name": "stdout",
     "output_type": "stream",
     "text": [
      "0 3 5 4 6 9 2 7 8\n",
      "7 8 2 1 0 5 6 0 9\n",
      "0 6 0 2 7 8 1 3 5\n",
      "3 2 1 0 4 6 8 9 7\n",
      "8 0 4 9 1 3 5 0 6\n",
      "5 9 6 8 2 0 4 1 3\n",
      "9 1 7 6 5 2 0 8 0\n",
      "6 0 3 7 0 1 9 5 2\n",
      "2 5 8 3 9 4 7 6 0\n",
      "1 3 5 4 6 9 2 7 8 \n",
      "7 8 2 1 3 5 6 4 9 \n",
      "4 6 9 2 7 8 1 3 5 \n",
      "3 2 1 5 4 6 8 9 7 \n",
      "8 7 4 9 1 3 5 2 6 \n",
      "5 9 6 8 2 7 4 1 3 \n",
      "9 1 7 6 5 2 3 8 4 \n",
      "6 4 3 7 8 1 9 5 2 \n",
      "2 5 8 3 9 4 7 6 1 \n"
     ]
    }
   ],
   "source": [
    "import sys\n",
    "\n",
    "def horizon(x, val): # 가로줄 검사\n",
    "    if val in data[x]:\n",
    "        return False\n",
    "    return True\n",
    "\n",
    "def vertical(y, val): # 세로줄 검사\n",
    "    for i in range(9):\n",
    "        if val==data[i][y]:\n",
    "            return False\n",
    "    return True\n",
    "\n",
    "def box(x, y, val): # 3*3 검사\n",
    "    nx = x//3 * 3\n",
    "    ny = y//3 * 3\n",
    "    \n",
    "    for i in range(3):\n",
    "        for j in range(3):\n",
    "            if val == data[nx+i][ny+j]:\n",
    "                return False\n",
    "    return True\n",
    "\n",
    "def dfs(index):\n",
    "    if index == len(zero): # 값이 0인 원소들 개수\n",
    "        for row in data:\n",
    "            for n in row:\n",
    "                print(n, end=' ')\n",
    "            print()\n",
    "        sys.exit(0)\n",
    "    else:\n",
    "        for i in range(1, 10): # 1~9 사이의 숫자\n",
    "            nx = zero[index][0]\n",
    "            ny = zero[index][1]\n",
    "        \n",
    "            if horizon(nx, i) and vertical(ny, i) and box(nx, ny, i):\n",
    "                data[nx][ny] = i\n",
    "                dfs(index+1)\n",
    "                data[nx][ny] = 0\n",
    "            \n",
    "data = [list(map(int, input().split())) for _ in range(9)]\n",
    "zero = [(i, j) for i in range(9) for j in range(9) if data[i][j] == 0] \n",
    "dfs(0)"
   ]
  }
 ],
 "metadata": {
  "kernelspec": {
   "display_name": "Python 3",
   "language": "python",
   "name": "python3"
  },
  "language_info": {
   "codemirror_mode": {
    "name": "ipython",
    "version": 3
   },
   "file_extension": ".py",
   "mimetype": "text/x-python",
   "name": "python",
   "nbconvert_exporter": "python",
   "pygments_lexer": "ipython3",
   "version": "3.8.8"
  }
 },
 "nbformat": 4,
 "nbformat_minor": 5
}
