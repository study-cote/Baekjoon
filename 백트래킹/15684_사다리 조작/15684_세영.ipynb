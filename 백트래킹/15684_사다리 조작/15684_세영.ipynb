{
 "cells": [
  {
   "cell_type": "code",
   "execution_count": 2,
   "id": "d4c44425",
   "metadata": {},
   "outputs": [
    {
     "name": "stdout",
     "output_type": "stream",
     "text": [
      "2 1 3\n",
      "1 1\n",
      "1\n"
     ]
    },
    {
     "ename": "SystemExit",
     "evalue": "0",
     "output_type": "error",
     "traceback": [
      "An exception has occurred, use %tb to see the full traceback.\n",
      "\u001b[1;31mSystemExit\u001b[0m\u001b[1;31m:\u001b[0m 0\n"
     ]
    }
   ],
   "source": [
    "import sys\n",
    "\n",
    "def move(): # 사다리 타고 내려감\n",
    "    for i in range(n):\n",
    "        col = i # 세로줄\n",
    "        for j in range(h): # 행\n",
    "            if a[col][j]: # col 번째 세로줄의 j행에 가로줄이 존재\n",
    "                col += 1 # 오른쪽 세로줄로 옮김\n",
    "            elif a[col-1][j]: \n",
    "                col -= 1 # 왼쪽 세로줄로 옮김\n",
    "        if i != col: # 시작할 때 세로줄과 끝났을 때 세로줄이 다를 때\n",
    "            return 0\n",
    "    return 1\n",
    "\n",
    "\n",
    "def dfs(cnt, idx, num): # 가로줄 추가 횟수, 현재 행 위치, 가로줄 n번 추가\n",
    "    global ans\n",
    "    if cnt == num: # 가로줄 n번 추가했을 때\n",
    "        if move(): # 사다리 타기\n",
    "            ans = cnt # 결과 저장\n",
    "        return\n",
    "\n",
    "    for i in range(idx, h):\n",
    "        for j in range(n-1):\n",
    "            # 가로줄 존재할 때 continue\n",
    "            if a[j][i]:\n",
    "                continue\n",
    "            if j - 1 >= 0 and a[j-1][i]:\n",
    "                continue\n",
    "            if j + 1 < n and a[j+1][i]:\n",
    "                continue\n",
    "            # 가로줄 존재하지 않을 때\n",
    "            a[j][i] = 1 # 가로줄 만들어 줌\n",
    "            dfs(cnt + 1, i, num) \n",
    "            a[j][i] = 0 # dfs 실행 후 이전 상태로 \n",
    "\n",
    "n, m, h = map(int, input().split())\n",
    "a = [[0]*h for _ in range(n)] # n * h 배열 0으로 초기화\n",
    "for _ in range(m):\n",
    "    x, y = map(int, input().split())\n",
    "    a[y-1][x-1] = 1 # 만약 가로줄 존재 시 1로 바꿈\n",
    "\n",
    "ans = 4\n",
    "for num in range(4): # 0~3 개수로 가로줄 생성 후 조건 맞으면 출력\n",
    "    dfs(0, 0, num)\n",
    "    if ans < 4:\n",
    "        print(ans)\n",
    "        sys.exit(0)\n",
    "if ans >= 4:\n",
    "    print(-1)"
   ]
  },
  {
   "cell_type": "code",
   "execution_count": null,
   "id": "df7dec6d",
   "metadata": {},
   "outputs": [],
   "source": []
  }
 ],
 "metadata": {
  "kernelspec": {
   "display_name": "Python 3",
   "language": "python",
   "name": "python3"
  },
  "language_info": {
   "codemirror_mode": {
    "name": "ipython",
    "version": 3
   },
   "file_extension": ".py",
   "mimetype": "text/x-python",
   "name": "python",
   "nbconvert_exporter": "python",
   "pygments_lexer": "ipython3",
   "version": "3.8.8"
  }
 },
 "nbformat": 4,
 "nbformat_minor": 5
}
