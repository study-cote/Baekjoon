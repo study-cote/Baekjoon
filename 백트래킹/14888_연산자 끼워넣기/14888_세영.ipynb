{
 "cells": [
  {
   "cell_type": "code",
   "execution_count": 2,
   "id": "7a8823b0",
   "metadata": {},
   "outputs": [
    {
     "name": "stdout",
     "output_type": "stream",
     "text": [
      "3\n",
      "3 4 5\n",
      "1 0 1 0\n",
      "35\n",
      "17\n"
     ]
    }
   ],
   "source": [
    "def dfs(cnt, res, plus, sub, mul, div):\n",
    "    global max_res\n",
    "    global min_res\n",
    "    \n",
    "    if cnt == n:\n",
    "        max_res = max(max_res, res)\n",
    "        min_res = min(min_res, res)\n",
    "        return\n",
    "    \n",
    "    if plus:\n",
    "        dfs(cnt + 1, res + data[cnt], plus - 1, sub, mul, div)\n",
    "    if sub:\n",
    "        dfs(cnt + 1, res - data[cnt], plus, sub - 1, mul, div)\n",
    "    if mul:\n",
    "        dfs(cnt + 1, res * data[cnt], plus, sub, mul - 1, div)\n",
    "    if div:\n",
    "        dfs(cnt + 1, -(-res // data[cnt]) if res < 0 \n",
    "            else res // data[cnt], plus, sub, mul, div - 1)\n",
    "        \n",
    "n = int(input())\n",
    "data = list(map(int, input().split()))\n",
    "op = list(map(int, input().split()))\n",
    "max_res = -1000000001\n",
    "min_res = 1000000001\n",
    "\n",
    "dfs(1, data[0], op[0], op[1], op[2], op[3])\n",
    "\n",
    "print(max_res)\n",
    "print(min_res)"
   ]
  },
  {
   "cell_type": "code",
   "execution_count": null,
   "id": "a67945e1",
   "metadata": {},
   "outputs": [],
   "source": []
  }
 ],
 "metadata": {
  "kernelspec": {
   "display_name": "Python 3",
   "language": "python",
   "name": "python3"
  },
  "language_info": {
   "codemirror_mode": {
    "name": "ipython",
    "version": 3
   },
   "file_extension": ".py",
   "mimetype": "text/x-python",
   "name": "python",
   "nbconvert_exporter": "python",
   "pygments_lexer": "ipython3",
   "version": "3.8.8"
  }
 },
 "nbformat": 4,
 "nbformat_minor": 5
}
