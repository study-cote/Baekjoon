{
 "cells": [
  {
   "cell_type": "code",
   "execution_count": 5,
   "id": "1a6412f0",
   "metadata": {},
   "outputs": [
    {
     "name": "stdout",
     "output_type": "stream",
     "text": [
      "5\n",
      "X S X X T\n",
      "T X S X X\n",
      "X X X X X\n",
      "X T X X X\n",
      "X X T X X\n",
      "YES\n"
     ]
    },
    {
     "ename": "SystemExit",
     "evalue": "1",
     "output_type": "error",
     "traceback": [
      "An exception has occurred, use %tb to see the full traceback.\n",
      "\u001b[1;31mSystemExit\u001b[0m\u001b[1;31m:\u001b[0m 1\n"
     ]
    },
    {
     "name": "stderr",
     "output_type": "stream",
     "text": [
      "C:\\Anaconda3\\lib\\site-packages\\IPython\\core\\interactiveshell.py:3445: UserWarning: To exit: use 'exit', 'quit', or Ctrl-D.\n",
      "  warn(\"To exit: use 'exit', 'quit', or Ctrl-D.\", stacklevel=1)\n"
     ]
    }
   ],
   "source": [
    "import sys\n",
    "\n",
    "def check_t(): # 감시 막을 수 있는지 체크\n",
    "    for teacher in t:\n",
    "        for i in range(4): # 4방향\n",
    "            x, y = teacher # 선생님 위치\n",
    "            while 0<=x<n and 0<=y<n:\n",
    "                if data[x][y] == 'O': # 장애물 있으면 멈춤\n",
    "                    break\n",
    "                elif data[x][y] == 'S': # 학생이 나오면 False\n",
    "                    return False\n",
    "                x += dx[i]; y += dy[i]\n",
    "    return True\n",
    "\n",
    "def dfs(cnt):\n",
    "    if cnt == 3:\n",
    "        if check_t(): # 감시 피했으면 YES 출력 후 종료\n",
    "            print('YES') \n",
    "            sys.exit(0)\n",
    "        else:\n",
    "            return\n",
    "    \n",
    "    for i in range(n):\n",
    "        for j in range(n):\n",
    "            if data[i][j] == 'X': # 'X' 인 곳 장애물로 바꿈\n",
    "                data[i][j] = 'O'\n",
    "                dfs(cnt+1)\n",
    "                data[i][j] = 'X'\n",
    "                \n",
    "n = int(input())\n",
    "t = []; data = []\n",
    "dx = [-1, 1, 0, 0]\n",
    "dy = [0, 0, -1, 1]\n",
    "\n",
    "for i in range(n):\n",
    "    data.append(list(map(str, input().split())))\n",
    "    for j in range(n):\n",
    "        if data[i][j] == 'T':\n",
    "            t.append((i, j))\n",
    "            \n",
    "dfs(0)\n",
    "print('NO')"
   ]
  },
  {
   "cell_type": "code",
   "execution_count": null,
   "id": "d81c4a16",
   "metadata": {},
   "outputs": [],
   "source": [
    "n = int(input())\n",
    "\n",
    "data = []\n",
    "teacher = []\n",
    "wall = []\n",
    "result = \"NO\"\n",
    "\n",
    "# 상하좌우\n",
    "dx = [-1,1,0,0]\n",
    "dy = [0,0,-1,1]\n",
    "\n",
    "for i in range(n):\n",
    "    data.append(list(map(str, input().split())))\n",
    "    for j in range(n):\n",
    "        if data[i][j] == 'T':\n",
    "            teacher.append((i,j))\n",
    "\n",
    "def check_t():\n",
    "    global teacher, data\n",
    "    for t in teacher:\n",
    "        for i in range(4):\n",
    "            x, y = t\n",
    "            while 0<= x < n and 0<= y < n:\n",
    "                if data[x][y] == 'O':\n",
    "                    break\n",
    "                elif data[x][y] == 'S':\n",
    "                    return False\n",
    "                x += dx[i]\n",
    "                y += dy[i]\n",
    "    return True\n",
    "\n",
    "def dfs(count):\n",
    "    global teacher, data, result, wall\n",
    "    if count > 3:\n",
    "        return\n",
    "    if count == 3:\n",
    "        if check_t() is True:\n",
    "            result = \"YES\"\n",
    "            return\n",
    "        else:\n",
    "            result = \"NO\"\n",
    "    \n",
    "    for i in range(n):\n",
    "        for j in range(n):\n",
    "            if data[i][j] == 'X':\n",
    "                data[i][j] = 'O'\n",
    "                wall.append((i,j))\n",
    "                dfs(count+1)\n",
    "                if result == \"YES\":\n",
    "                    return\n",
    "                wall.remove((i,j))\n",
    "                data[i][j] = 'X'\n",
    "\n",
    "dfs(0)\n",
    "print(result)"
   ]
  }
 ],
 "metadata": {
  "kernelspec": {
   "display_name": "Python 3",
   "language": "python",
   "name": "python3"
  },
  "language_info": {
   "codemirror_mode": {
    "name": "ipython",
    "version": 3
   },
   "file_extension": ".py",
   "mimetype": "text/x-python",
   "name": "python",
   "nbconvert_exporter": "python",
   "pygments_lexer": "ipython3",
   "version": "3.8.8"
  }
 },
 "nbformat": 4,
 "nbformat_minor": 5
}
