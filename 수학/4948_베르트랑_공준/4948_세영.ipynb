{
 "cells": [
  {
   "cell_type": "code",
   "execution_count": 8,
   "id": "431a3f7e",
   "metadata": {},
   "outputs": [
    {
     "name": "stdout",
     "output_type": "stream",
     "text": [
      "1\n",
      "1\n",
      "10\n",
      "4\n",
      "13\n",
      "3\n",
      "100\n",
      "21\n",
      "0\n"
     ]
    }
   ],
   "source": [
    "import math\n",
    "\n",
    "def IsPrime(n):\n",
    "    a = int(math.sqrt(n))\n",
    "    \n",
    "    if n == 1:\n",
    "        return False\n",
    "    else:\n",
    "        for i in range(2, a+1):\n",
    "            if n % i == 0: \n",
    "                return False\n",
    "        return True\n",
    "\n",
    "all_list = list(range(2,246913))\n",
    "prime_list = []\n",
    "\n",
    "for i in all_list:\n",
    "    if IsPrime(i):\n",
    "         prime_list.append(i)\n",
    "\n",
    "n = int(input())\n",
    "\n",
    "while n>0:\n",
    "    \n",
    "    cnt = 0\n",
    "    \n",
    "    for i in prime_list:\n",
    "        if n < i <= 2*n:\n",
    "            cnt += 1\n",
    "    \n",
    "    print(cnt)\n",
    "    \n",
    "    n = int(input())"
   ]
  }
 ],
 "metadata": {
  "kernelspec": {
   "display_name": "Python 3",
   "language": "python",
   "name": "python3"
  },
  "language_info": {
   "codemirror_mode": {
    "name": "ipython",
    "version": 3
   },
   "file_extension": ".py",
   "mimetype": "text/x-python",
   "name": "python",
   "nbconvert_exporter": "python",
   "pygments_lexer": "ipython3",
   "version": "3.8.8"
  }
 },
 "nbformat": 4,
 "nbformat_minor": 5
}
