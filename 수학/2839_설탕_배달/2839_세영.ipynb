{
 "cells": [
  {
   "cell_type": "code",
   "execution_count": 4,
   "id": "a5709b0e",
   "metadata": {},
   "outputs": [
    {
     "name": "stdout",
     "output_type": "stream",
     "text": [
      "7\n",
      "-1\n"
     ]
    }
   ],
   "source": [
    "n = int(input())\n",
    "\n",
    "if (n%5) == 0: # 5의 배수일때\n",
    "    print(n//5)\n",
    "else: # 5의 배수가 아닐때\n",
    "    for i in range(1, n):\n",
    "        if (n-3*i)%5 == 0: # 3을 하나씩 더해가면서 5로 나뉘어지는지 확인\n",
    "            print(i + (n-3*i)//5) \n",
    "            break\n",
    "        else:\n",
    "            if 3*i > n:\n",
    "                print(-1)\n",
    "                break"
   ]
  },
  {
   "cell_type": "code",
   "execution_count": null,
   "id": "84ea89f3",
   "metadata": {},
   "outputs": [],
   "source": []
  }
 ],
 "metadata": {
  "kernelspec": {
   "display_name": "Python 3",
   "language": "python",
   "name": "python3"
  },
  "language_info": {
   "codemirror_mode": {
    "name": "ipython",
    "version": 3
   },
   "file_extension": ".py",
   "mimetype": "text/x-python",
   "name": "python",
   "nbconvert_exporter": "python",
   "pygments_lexer": "ipython3",
   "version": "3.8.8"
  }
 },
 "nbformat": 4,
 "nbformat_minor": 5
}
