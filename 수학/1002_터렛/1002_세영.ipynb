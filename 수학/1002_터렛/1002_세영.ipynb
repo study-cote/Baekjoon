{
 "cells": [
  {
   "cell_type": "code",
   "execution_count": 1,
   "id": "f1b56b03",
   "metadata": {},
   "outputs": [
    {
     "name": "stdout",
     "output_type": "stream",
     "text": [
      "3\n",
      "0 0 13 40 0 37\n",
      "2\n",
      "0 0 3 0 7 4\n",
      "1\n",
      "1 1 1 1 1 5\n",
      "0\n"
     ]
    }
   ],
   "source": [
    "n = int(input())\n",
    "\n",
    "for _ in range(n):\n",
    "    x1, y1, r1, x2, y2, r2 = map(int, input().split())\n",
    "    \n",
    "    d = ((x1-x2)**2 + (y1-y2)**2)**(1/2) # 두 점 사이의 거리\n",
    "    \n",
    "    r = [r1, r2, d] \n",
    "    m = max(r) # 셋 중 최고값\n",
    "    r.remove(m) # 최고값을 뺌\n",
    "    \n",
    "    if (d==0) and (r1==r2): print(-1) # 두 원이 겹쳤을때\n",
    "    elif (d==r1+r2) or (m==sum(r)): print(1) # 두 원이 한 점에서 만날때\n",
    "    elif m > sum(r): print(0) # 두 원이 만나지 않을때\n",
    "    else: print(2) # 두 원이 두 점에서 만날때"
   ]
  },
  {
   "cell_type": "code",
   "execution_count": null,
   "id": "203078d8",
   "metadata": {},
   "outputs": [],
   "source": []
  }
 ],
 "metadata": {
  "kernelspec": {
   "display_name": "Python 3",
   "language": "python",
   "name": "python3"
  },
  "language_info": {
   "codemirror_mode": {
    "name": "ipython",
    "version": 3
   },
   "file_extension": ".py",
   "mimetype": "text/x-python",
   "name": "python",
   "nbconvert_exporter": "python",
   "pygments_lexer": "ipython3",
   "version": "3.8.8"
  }
 },
 "nbformat": 4,
 "nbformat_minor": 5
}
