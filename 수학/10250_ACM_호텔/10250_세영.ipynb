{
 "cells": [
  {
   "cell_type": "code",
   "execution_count": 2,
   "id": "750aee92",
   "metadata": {},
   "outputs": [
    {
     "name": "stdout",
     "output_type": "stream",
     "text": [
      "1\n",
      "6 12 10\n",
      "402\n"
     ]
    }
   ],
   "source": [
    "t = int(input())\n",
    "\n",
    "for i in range(t):\n",
    "    h, w, n = input().split()\n",
    "    h = int(h)\n",
    "    w = int(w)\n",
    "    n = int(n)\n",
    "    \n",
    "    a = n+(h-1) # 계산하기 쉽게 나누는 수 보다 1작은 수를 더해준다\n",
    "    \n",
    "    print((a%h+1)*100 + (a//h)) "
   ]
  },
  {
   "cell_type": "code",
   "execution_count": null,
   "id": "e970109f",
   "metadata": {},
   "outputs": [],
   "source": []
  }
 ],
 "metadata": {
  "kernelspec": {
   "display_name": "Python 3",
   "language": "python",
   "name": "python3"
  },
  "language_info": {
   "codemirror_mode": {
    "name": "ipython",
    "version": 3
   },
   "file_extension": ".py",
   "mimetype": "text/x-python",
   "name": "python",
   "nbconvert_exporter": "python",
   "pygments_lexer": "ipython3",
   "version": "3.8.8"
  }
 },
 "nbformat": 4,
 "nbformat_minor": 5
}
