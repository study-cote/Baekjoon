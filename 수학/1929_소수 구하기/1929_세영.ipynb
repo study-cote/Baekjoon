{
 "cells": [
  {
   "cell_type": "code",
   "execution_count": 6,
   "id": "732257c9",
   "metadata": {},
   "outputs": [
    {
     "name": "stdout",
     "output_type": "stream",
     "text": [
      "3 16\n",
      "3\n",
      "5\n",
      "7\n",
      "11\n",
      "13\n"
     ]
    }
   ],
   "source": [
    "m, n = input().split()\n",
    "m = int(m); n = int(n)\n",
    "arr = [True for _ in range(n+1)] # true 인 n 개의 배열\n",
    "\n",
    "for i in range(2, int(n**0.5) + 1): # 계산시간 줄이기 위해 제곱근 사용\n",
    "    if arr[i] == True:\n",
    "        j = 2\n",
    "        while i * j <= n: \n",
    "            arr[i*j] = False # 소수가 아닐경우 \n",
    "            j += 1\n",
    "\n",
    "for i in range(m, n+1): # 출력\n",
    "    if i > 1:\n",
    "        if arr[i] == True:\n",
    "            print(i)"
   ]
  },
  {
   "cell_type": "code",
   "execution_count": null,
   "id": "f1fcc02c",
   "metadata": {},
   "outputs": [],
   "source": []
  }
 ],
 "metadata": {
  "kernelspec": {
   "display_name": "Python 3",
   "language": "python",
   "name": "python3"
  },
  "language_info": {
   "codemirror_mode": {
    "name": "ipython",
    "version": 3
   },
   "file_extension": ".py",
   "mimetype": "text/x-python",
   "name": "python",
   "nbconvert_exporter": "python",
   "pygments_lexer": "ipython3",
   "version": "3.8.8"
  }
 },
 "nbformat": 4,
 "nbformat_minor": 5
}
