{
 "cells": [
  {
   "cell_type": "code",
   "execution_count": 34,
   "id": "dbd0ed89",
   "metadata": {},
   "outputs": [
    {
     "name": "stdout",
     "output_type": "stream",
     "text": [
      "1234 56\n",
      "1290\n"
     ]
    }
   ],
   "source": [
    "a, b = input().split()\n",
    "\n",
    "if len(a) < len(b) : # a>=b 로 바꿔줌\n",
    "    a,b = b,a\n",
    "\n",
    "# 길이가 a=b 되도록\n",
    "diff = len(a) - len(b) # 길이 차이값\n",
    "b = '0'*diff + b # b앞에 0을 붙여줌\n",
    "\n",
    "# 뒤에서부터 하나씩 읽음\n",
    "carry = False # 자릿수 넘는지 체크\n",
    "c = []\n",
    "for i in range(len(a)-1, -1, -1): # len(a)-1 에서 0까지 -1씩 감소\n",
    "    res = int(a[i]) + int(b[i]) + (1 if carry else 0)\n",
    "    carry = False\n",
    "    \n",
    "    if res >= 10: # 10을 넘으면\n",
    "        carry = True\n",
    "        res -= 10\n",
    "        \n",
    "    c.append(str(res)) # 리스트 c에 문자 이어붙이기\n",
    "    \n",
    "if carry: # 마지막 숫자가 10을 넘을 경우\n",
    "    c.append(str(1))\n",
    "\n",
    "print(''.join(c[::-1])) # 끝에서부터 거꾸로 출력"
   ]
  },
  {
   "cell_type": "code",
   "execution_count": null,
   "id": "d8c03b96",
   "metadata": {},
   "outputs": [],
   "source": []
  }
 ],
 "metadata": {
  "kernelspec": {
   "display_name": "Python 3",
   "language": "python",
   "name": "python3"
  },
  "language_info": {
   "codemirror_mode": {
    "name": "ipython",
    "version": 3
   },
   "file_extension": ".py",
   "mimetype": "text/x-python",
   "name": "python",
   "nbconvert_exporter": "python",
   "pygments_lexer": "ipython3",
   "version": "3.8.8"
  }
 },
 "nbformat": 4,
 "nbformat_minor": 5
}
