{
 "cells": [
  {
   "cell_type": "code",
   "execution_count": 22,
   "id": "fc195666",
   "metadata": {},
   "outputs": [
    {
     "name": "stdout",
     "output_type": "stream",
     "text": [
      "2 1 5\n",
      "3\n"
     ]
    }
   ],
   "source": [
    "import math\n",
    "\n",
    "a, b, v = input().split()\n",
    "a = int(a)\n",
    "b = int(b)\n",
    "v = int(v)\n",
    "\n",
    "print(math.ceil((v-a)/(a-b))+1)"
   ]
  },
  {
   "cell_type": "code",
   "execution_count": null,
   "id": "93fadc5d",
   "metadata": {},
   "outputs": [],
   "source": []
  }
 ],
 "metadata": {
  "kernelspec": {
   "display_name": "Python 3",
   "language": "python",
   "name": "python3"
  },
  "language_info": {
   "codemirror_mode": {
    "name": "ipython",
    "version": 3
   },
   "file_extension": ".py",
   "mimetype": "text/x-python",
   "name": "python",
   "nbconvert_exporter": "python",
   "pygments_lexer": "ipython3",
   "version": "3.8.8"
  }
 },
 "nbformat": 4,
 "nbformat_minor": 5
}
