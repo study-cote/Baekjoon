{
 "cells": [
  {
   "cell_type": "code",
   "execution_count": 1,
   "id": "26b15a64",
   "metadata": {},
   "outputs": [
    {
     "name": "stdout",
     "output_type": "stream",
     "text": [
      "5 5\n",
      "5 7\n",
      "7 5\n",
      "7 7\n"
     ]
    }
   ],
   "source": [
    "ax, ay = input().split(); ax = int(ax); ay = int(ay)\n",
    "bx, by = input().split(); bx = int(bx); by = int(by)\n",
    "cx, cy = input().split(); cx = int(cx); cy = int(cy)\n",
    "\n",
    "dx = (cx if ax==bx else (ax if bx==cx else bx))\n",
    "dy = (cy if ay==by else (ay if by==cy else by))\n",
    "\n",
    "print(\"%d %d\"%(dx, dy))"
   ]
  },
  {
   "cell_type": "code",
   "execution_count": null,
   "id": "d1d826c5",
   "metadata": {},
   "outputs": [],
   "source": []
  }
 ],
 "metadata": {
  "kernelspec": {
   "display_name": "Python 3",
   "language": "python",
   "name": "python3"
  },
  "language_info": {
   "codemirror_mode": {
    "name": "ipython",
    "version": 3
   },
   "file_extension": ".py",
   "mimetype": "text/x-python",
   "name": "python",
   "nbconvert_exporter": "python",
   "pygments_lexer": "ipython3",
   "version": "3.8.8"
  }
 },
 "nbformat": 4,
 "nbformat_minor": 5
}
