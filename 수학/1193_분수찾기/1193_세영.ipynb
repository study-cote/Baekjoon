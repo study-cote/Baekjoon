{
 "cells": [
  {
   "cell_type": "code",
   "execution_count": 15,
   "id": "cfbc9e16",
   "metadata": {},
   "outputs": [
    {
     "name": "stdout",
     "output_type": "stream",
     "text": [
      "3\n",
      "2/1\n"
     ]
    }
   ],
   "source": [
    "a = int(input())\n",
    "\n",
    "sum = 0\n",
    "n = 1\n",
    "\n",
    "while a:\n",
    "    sum += n\n",
    "    \n",
    "    if a <= sum:\n",
    "        break\n",
    "    \n",
    "    n += 1\n",
    "\n",
    "b = a - (sum - n) # 입력값 - 전 단계 분수들의 개수 = 몇 번째 값인지 알 수 있음\n",
    "\n",
    "if n % 2 == 0:\n",
    "    print('%d/%d'%(b, n+1-b)) # 짝수일때 왼쪽\n",
    "else:\n",
    "    print('%d/%d'%(n+1-b, b)) # 홀수일때 오른쪽\n",
    "    "
   ]
  },
  {
   "cell_type": "code",
   "execution_count": null,
   "id": "49edc56b",
   "metadata": {},
   "outputs": [],
   "source": []
  }
 ],
 "metadata": {
  "kernelspec": {
   "display_name": "Python 3",
   "language": "python",
   "name": "python3"
  },
  "language_info": {
   "codemirror_mode": {
    "name": "ipython",
    "version": 3
   },
   "file_extension": ".py",
   "mimetype": "text/x-python",
   "name": "python",
   "nbconvert_exporter": "python",
   "pygments_lexer": "ipython3",
   "version": "3.8.8"
  }
 },
 "nbformat": 4,
 "nbformat_minor": 5
}
