{
 "cells": [
  {
   "cell_type": "code",
   "execution_count": 29,
   "id": "00537d83",
   "metadata": {},
   "outputs": [
    {
     "name": "stdout",
     "output_type": "stream",
     "text": [
      "3\n",
      "8\n",
      "3 5\n",
      "10\n",
      "5 5\n",
      "16\n",
      "5 11\n"
     ]
    }
   ],
   "source": [
    "import math\n",
    "\n",
    "def isPrime(n):\n",
    "    a = int(math.sqrt(n))\n",
    "    \n",
    "    if n == 1:\n",
    "        False\n",
    "    else:\n",
    "        for i in range(2, a+1):\n",
    "            if n % i == 0:\n",
    "                return False\n",
    "        return True\n",
    "    \n",
    "all_list = list(range(2, 10001))\n",
    "prime_list = []\n",
    "for i in all_list:\n",
    "    if isPrime(i):\n",
    "        prime_list.append(i)\n",
    "        \n",
    "def find_small(a): # 입력값보다 작은 소수 찾기\n",
    "    res = a\n",
    "    for i in prime_list:\n",
    "        if i < a:\n",
    "            res = i\n",
    "    return res\n",
    "\n",
    "def find_big(a): # 입력값보다 큰 소수 찾기\n",
    "    res = a\n",
    "    for i in prime_list:\n",
    "        if i > a:\n",
    "            res = i\n",
    "            return res\n",
    "        \n",
    "t = int(input())\n",
    "\n",
    "for _ in range(t):\n",
    "    n = int(input())\n",
    "    a = int(n/2)\n",
    "    \n",
    "    if a in prime_list: # 입력값을 반으로 나눈 값이 소수일때\n",
    "        print(\"%d %d\"%(a, a))\n",
    "    else:\n",
    "        b = find_small(a)\n",
    "        c = find_big(a)\n",
    "        \n",
    "        if b+c == n: # 구한 소수값들의 합이 입력값인 경우\n",
    "            print(\"%d %d\"%(b, c))\n",
    "        else:\n",
    "            while True:\n",
    "                if b+c < n: # 구한 소수값들의 합이 입력값보다 작을 경우\n",
    "                    c = find_big(c)\n",
    "                elif b+c > n: # 구한 소수값들의 합이 입력값보다 클 경우\n",
    "                    b = find_small(b)\n",
    "                \n",
    "                if b+c == n:\n",
    "                    print(\"%d %d\"%(b, c))\n",
    "                    break"
   ]
  },
  {
   "cell_type": "code",
   "execution_count": null,
   "id": "c9a21318",
   "metadata": {},
   "outputs": [],
   "source": [
    " if b+c == n: # 구한 소수값들의 합이 입력값인 경우\n",
    "            print(\"%d %d\"%(b, c))\n",
    "        else:\n",
    "            while True:\n",
    "                if b+c < n: # 구한 소수값들의 합이 입력값보다 작을 경우\n",
    "                    c = find_big(c)\n",
    "                elif b+c > n: # 구한 소수값들의 합이 입력값보다 클 경우\n",
    "                    b = find_small(b)\n",
    "                \n",
    "                if b+c == n:\n",
    "                    print(\"%d %d\"%(b, c))\n",
    "                    break"
   ]
  }
 ],
 "metadata": {
  "kernelspec": {
   "display_name": "Python 3",
   "language": "python",
   "name": "python3"
  },
  "language_info": {
   "codemirror_mode": {
    "name": "ipython",
    "version": 3
   },
   "file_extension": ".py",
   "mimetype": "text/x-python",
   "name": "python",
   "nbconvert_exporter": "python",
   "pygments_lexer": "ipython3",
   "version": "3.8.8"
  }
 },
 "nbformat": 4,
 "nbformat_minor": 5
}
