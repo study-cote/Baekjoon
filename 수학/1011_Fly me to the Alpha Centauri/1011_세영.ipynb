{
 "cells": [
  {
   "cell_type": "code",
   "execution_count": 16,
   "id": "8252fcf2",
   "metadata": {},
   "outputs": [
    {
     "name": "stdout",
     "output_type": "stream",
     "text": [
      "1\n",
      "0 1\n",
      "1\n"
     ]
    }
   ],
   "source": [
    "t = int(input())\n",
    "\n",
    "for _ in range(t):\n",
    "    x, y = input().split()\n",
    "    x = int(x); y = int(y)\n",
    "    diff = y-x\n",
    "    add = 0; i = 0; res = 0; cnt = 1\n",
    "    \n",
    "    \n",
    "    for i in range(1, diff):\n",
    "        add += i\n",
    "        if add*2 <= diff:\n",
    "            cnt = 2*i; res = add*2\n",
    "        else:\n",
    "            break\n",
    "    \n",
    "    cnt = cnt + (0 if i==0 else \n",
    "                 (diff-res)//i + (0 if ((diff-res)%i)==0 else 1))\n",
    "    print(cnt)"
   ]
  },
  {
   "cell_type": "code",
   "execution_count": null,
   "id": "ab6f4221",
   "metadata": {},
   "outputs": [],
   "source": []
  }
 ],
 "metadata": {
  "kernelspec": {
   "display_name": "Python 3",
   "language": "python",
   "name": "python3"
  }
 },
 "nbformat": 4,
 "nbformat_minor": 5
}
