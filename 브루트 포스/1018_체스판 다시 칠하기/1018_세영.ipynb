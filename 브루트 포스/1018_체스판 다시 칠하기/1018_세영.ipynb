{
 "cells": [
  {
   "cell_type": "code",
   "execution_count": 18,
   "id": "daa16cfe",
   "metadata": {},
   "outputs": [
    {
     "name": "stdout",
     "output_type": "stream",
     "text": [
      "8 8\n",
      "WBWBWBWB\n",
      "BWBWBWBW\n",
      "WBWBWBWB\n",
      "BWBBBWBW\n",
      "WBWBWBWB\n",
      "BWBWBWBW\n",
      "WBWBWBWB\n",
      "BWBWBWBW\n",
      "1\n"
     ]
    }
   ],
   "source": [
    "m, n = map(int, input().split())\n",
    "data = []\n",
    "Bcnt = [[1]*n for i in range(m)] # 시작이 검정인 체스판 1 로 초기화\n",
    "Wcnt = [[1]*n for i in range(m)] # 시작이 흰색인 체스판 1로 초기화\n",
    "\n",
    "for _ in range(m):\n",
    "    data.append(input())\n",
    "\n",
    "for i in range(m):\n",
    "    for j in range(n):\n",
    "        if ((i%2==0) and (j%2==0)) or ((i%2==1) and (j%2==1)): # 둘 다 짝수 or 둘 다 홀수 일때 같은 색이어야 한다\n",
    "            if data[i][j] == 'B': # 입력값이 검정일 때\n",
    "                Bcnt[i][j] = 0 # 검정 체스판 0으로 바꿔줌(색 바꿔줄 필요가 없다는 의미)\n",
    "            else: # 입력값이 흰색일 때\n",
    "                Wcnt[i][j] = 0 # 흰색 체스판 0으로 바꿔줌\n",
    "        else: # 둘 중 하나가 홀수 하나가 짝수 일때\n",
    "            if data[i][j] == 'W':\n",
    "                Bcnt[i][j] = 0\n",
    "            else:\n",
    "                Wcnt[i][j] = 0\n",
    "\n",
    "res = [] # 합 저장하는 리스트\n",
    "\n",
    "# 체스판 개수\n",
    "for i in range(m-7):\n",
    "    for j in range(n-7):\n",
    "        total1 = 0; total2 = 0\n",
    "        for k in range(8): # 검정 체스판과 흰색 체스판 8X8 에 맞춰 더해줌\n",
    "            total1 += sum(Bcnt[0+i+k][0+j:8+j])\n",
    "            total2 += sum(Wcnt[0+i+k][0+j:8+j])\n",
    "        res.append(total1)\n",
    "        res.append(total2)\n",
    "\n",
    "print(min(res)) # 최소값 출력"
   ]
  }
 ],
 "metadata": {
  "kernelspec": {
   "display_name": "Python 3",
   "language": "python",
   "name": "python3"
  },
  "language_info": {
   "codemirror_mode": {
    "name": "ipython",
    "version": 3
   },
   "file_extension": ".py",
   "mimetype": "text/x-python",
   "name": "python",
   "nbconvert_exporter": "python",
   "pygments_lexer": "ipython3",
   "version": "3.8.8"
  }
 },
 "nbformat": 4,
 "nbformat_minor": 5
}
