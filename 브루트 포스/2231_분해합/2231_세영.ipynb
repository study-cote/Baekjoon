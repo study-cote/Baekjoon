{
 "cells": [
  {
   "cell_type": "code",
   "execution_count": 26,
   "id": "0f179884",
   "metadata": {},
   "outputs": [
    {
     "name": "stdout",
     "output_type": "stream",
     "text": [
      "216\n",
      "198\n"
     ]
    }
   ],
   "source": [
    "n = int(input())\n",
    "\n",
    "for i in range(1, n+1): # 1~n 까지 배열어 넣음\n",
    "    data = map(int, str(i)) # 문자열로 바꿔서 자릿수에 맞게 넣어준 걸 다시 정수형으로 바꿈\n",
    "    res = sum(data)+i # 각 자릿수의 합과 자신을 더한 값\n",
    "    \n",
    "    if res == n:\n",
    "        print(i); break\n",
    "        \n",
    "    if i == n:\n",
    "        print(0); break"
   ]
  },
  {
   "cell_type": "code",
   "execution_count": null,
   "id": "7a48c6e6",
   "metadata": {},
   "outputs": [],
   "source": []
  },
  {
   "cell_type": "code",
   "execution_count": null,
   "id": "33e4c4d4",
   "metadata": {},
   "outputs": [],
   "source": []
  }
 ],
 "metadata": {
  "kernelspec": {
   "display_name": "Python 3",
   "language": "python",
   "name": "python3"
  },
  "language_info": {
   "codemirror_mode": {
    "name": "ipython",
    "version": 3
   },
   "file_extension": ".py",
   "mimetype": "text/x-python",
   "name": "python",
   "nbconvert_exporter": "python",
   "pygments_lexer": "ipython3",
   "version": "3.8.8"
  }
 },
 "nbformat": 4,
 "nbformat_minor": 5
}
