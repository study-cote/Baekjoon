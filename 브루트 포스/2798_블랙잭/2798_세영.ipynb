{
 "cells": [
  {
   "cell_type": "code",
   "execution_count": 28,
   "id": "fd805804",
   "metadata": {},
   "outputs": [
    {
     "name": "stdout",
     "output_type": "stream",
     "text": [
      "5 21\n",
      "5 6 7 8 9\n",
      "21\n"
     ]
    }
   ],
   "source": [
    "def find(m, data): # data 리스트에서 m보다 작거나 같은 값을 찾아서 반환\n",
    "    i = 0; k = 0\n",
    "    for i in data:\n",
    "        if i <= m:\n",
    "            k = i\n",
    "    return k\n",
    "\n",
    "n, m = map(int, input().split())\n",
    "data = list(map(int, input().split()))\n",
    "\n",
    "data.sort() # 리스트 정렬\n",
    "sum_list = []\n",
    "\n",
    "for i in range(n-1):\n",
    "    for j in range(i+1, n):\n",
    "        res = data[i] + data[j] \n",
    "        if res >= m: # 두 값이 m 보다 크면 패스\n",
    "            break\n",
    "        else: # 두 값의 합이 m 보다 작을 때\n",
    "            ndata = []\n",
    "            ndata.extend(data) # 똑같은 리스트 하나 더 만들어줌\n",
    "            del(ndata[i]); del(ndata[j-1]) # 두 값을 뺀 리스트\n",
    "            k = find(m-res, ndata) # 나머지 값들 중 (m - 두개의 합) 보다 작거나 같은 값 반환\n",
    "            res += k\n",
    "            sum_list.append(res) # sum 리스트에 추가\n",
    "\n",
    "sum_list.sort() \n",
    "print(find(m, sum_list))"
   ]
  },
  {
   "cell_type": "code",
   "execution_count": null,
   "id": "4815d818",
   "metadata": {},
   "outputs": [],
   "source": []
  }
 ],
 "metadata": {
  "kernelspec": {
   "display_name": "Python 3",
   "language": "python",
   "name": "python3"
  },
  "language_info": {
   "codemirror_mode": {
    "name": "ipython",
    "version": 3
   },
   "file_extension": ".py",
   "mimetype": "text/x-python",
   "name": "python",
   "nbconvert_exporter": "python",
   "pygments_lexer": "ipython3",
   "version": "3.8.8"
  }
 },
 "nbformat": 4,
 "nbformat_minor": 5
}
