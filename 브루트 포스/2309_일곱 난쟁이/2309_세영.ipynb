{
 "cells": [
  {
   "cell_type": "code",
   "execution_count": 6,
   "id": "974e1e33",
   "metadata": {},
   "outputs": [
    {
     "name": "stdout",
     "output_type": "stream",
     "text": [
      "20\n",
      "7\n",
      "23\n",
      "19\n",
      "10\n",
      "15\n",
      "25\n",
      "8\n",
      "13\n",
      "7\n",
      "8\n",
      "10\n",
      "13\n",
      "19\n",
      "20\n",
      "23\n"
     ]
    },
    {
     "ename": "SystemExit",
     "evalue": "",
     "output_type": "error",
     "traceback": [
      "An exception has occurred, use %tb to see the full traceback.\n",
      "\u001b[1;31mSystemExit\u001b[0m\n"
     ]
    }
   ],
   "source": [
    "import sys\n",
    "\n",
    "tiny = []\n",
    "\n",
    "for i in range(9):\n",
    "    tiny.append(int(input()))\n",
    "\n",
    "for i in range(8):\n",
    "    for j in range(i, 8):\n",
    "        data = []\n",
    "        data.extend(tiny)\n",
    "        del data[i]; del data[j] # 리스트에서 값 2개 선택해 제거\n",
    "        \n",
    "        if sum(data) == 100: # 나머지 합이 100일때 출력\n",
    "            data.sort()\n",
    "            for k in data:\n",
    "                print(k)\n",
    "            sys.exit()"
   ]
  },
  {
   "cell_type": "code",
   "execution_count": null,
   "id": "d7a3aba3",
   "metadata": {},
   "outputs": [],
   "source": [
    "20\n",
    "7\n",
    "23\n",
    "19\n",
    "10\n",
    "15\n",
    "25\n",
    "8\n",
    "13"
   ]
  }
 ],
 "metadata": {
  "kernelspec": {
   "display_name": "Python 3",
   "language": "python",
   "name": "python3"
  },
  "language_info": {
   "codemirror_mode": {
    "name": "ipython",
    "version": 3
   },
   "file_extension": ".py",
   "mimetype": "text/x-python",
   "name": "python",
   "nbconvert_exporter": "python",
   "pygments_lexer": "ipython3",
   "version": "3.8.8"
  }
 },
 "nbformat": 4,
 "nbformat_minor": 5
}
